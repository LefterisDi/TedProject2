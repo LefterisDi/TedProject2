{
 "cells": [
  {
   "cell_type": "markdown",
   "metadata": {},
   "source": [
    "sdi1600042 Eleftherios Dimitras"
   ]
  },
  {
   "cell_type": "markdown",
   "metadata": {},
   "source": [
    "sdi1600119 Michael Xanthopoulos"
   ]
  },
  {
   "cell_type": "code",
   "execution_count": null,
   "metadata": {},
   "outputs": [],
   "source": [
    "import re\n",
    "import pickle\n",
    "import string\n",
    "import gensim\n",
    "import pandas            as pd\n",
    "import matplotlib.pyplot as plt\n",
    "\n",
    "from nltk                            import word_tokenize\n",
    "from nltk.corpus                     import stopwords\n",
    "from nltk.tokenize                   import TweetTokenizer\n",
    "from nltk.stem.porter                import PorterStemmer\n",
    "from wordcloud                       import WordCloud\n",
    "from collections                     import Counter\n",
    "from gensim.models                   import Word2Vec\n",
    "from sklearn.manifold                import TSNE\n",
    "from IPython.core.display            import HTML\n",
    "from sklearn.feature_extraction.text import CountVectorizer , TfidfVectorizer\n",
    "from sklearn.model_selection         import train_test_split\n",
    "from sklearn                         import svm\n",
    "from sklearn.metrics                 import f1_score\n",
    "from sklearn.neighbors               import KNeighborsClassifier"
   ]
  },
  {
   "cell_type": "code",
   "execution_count": 13,
   "metadata": {},
   "outputs": [
    {
     "data": {
      "image/png": "[encoded data removed]",
      "text/plain": [
       "<Figure size 432x288 with 1 Axes>"
      ]
     },
     "metadata": {
      "needs_background": "light"
     },
     "output_type": "display_data"
    }
   ],
   "source": [
    "import numpy as np\n",
    "import matplotlib.pyplot as plt\n",
    "\n",
    "\n",
    "N = 5\n",
    "menMeans = (20, 35, 30, 35, 27)\n",
    "womenMeans = (25, 32, 34, 20, 25)\n",
    "menStd = (2, 3, 4, 1, 2)\n",
    "womenStd = (3, 5, 2, 3, 3)\n",
    "ind = np.arange(N)    # the x locations for the groups\n",
    "width = 0.35       # the width of the bars: can also be len(x) sequence\n",
    "\n",
    "p1 = plt.bar(ind, menMeans, width, yerr=menStd)\n",
    "p2 = plt.bar(ind, womenMeans, width,\n",
    "             bottom=menMeans, yerr=womenStd)\n",
    "\n",
    "plt.ylabel('Scores')\n",
    "plt.title('Scores by group and gender')\n",
    "plt.xticks(ind, ('G1', 'G2', 'G3', 'G4', 'G5'))\n",
    "plt.yticks(np.arange(0, 81, 10))\n",
    "plt.legend((p1[0], p2[0]), ('Men', 'Women'))\n",
    "\n",
    "plt.show()"
   ]
  },
  {
   "cell_type": "code",
   "execution_count": 16,
   "metadata": {},
   "outputs": [
    {
     "data": {
      "image/png": "[encoded data removed]",
      "text/plain": [
       "<Figure size 432x288 with 1 Axes>"
      ]
     },
     "metadata": {
      "needs_background": "light"
     },
     "output_type": "display_data"
    }
   ],
   "source": [
    "import numpy as np\n",
    "import matplotlib.pyplot as plt\n",
    "from matplotlib import rc\n",
    "import pandas as pd\n",
    " \n",
    "# y-axis in bold\n",
    "rc('font', weight='bold')\n",
    " \n",
    "# Values of each group\n",
    "bars1 = [12, 28, 1, 8, 22]\n",
    "bars2 = [28, 7, 16, 4, 10]\n",
    "bars3 = [25, 3, 23, 25, 17]\n",
    " \n",
    "# Heights of bars1 + bars2\n",
    "bars = np.add(bars1, bars2).tolist()\n",
    " \n",
    "# The position of the bars on the x-axis\n",
    "r = [0,1,2,3,4]\n",
    " \n",
    "# Names of group and bar width\n",
    "names = ['A','B','C','D','E']\n",
    "barWidth = 1\n",
    " \n",
    "# Create brown bars\n",
    "plt.bar(r, bars1, color='#7f6d5f', edgecolor='white', width=barWidth)\n",
    "# Create green bars (middle), on top of the firs ones\n",
    "plt.bar(r, bars2, bottom=bars1, color='#557f2d', edgecolor='white', width=barWidth)\n",
    "# Create green bars (top)\n",
    "plt.bar(r, bars3, bottom=bars, color='#2d7f5e', edgecolor='white', width=barWidth)\n",
    " \n",
    "# Custom X axis\n",
    "plt.xticks(r, names, fontweight='bold')\n",
    "plt.xlabel(\"group\")\n",
    " \n",
    "# Show graphic\n",
    "plt.show()"
   ]
  },
  {
   "cell_type": "code",
   "execution_count": null,
   "metadata": {},
   "outputs": [],
   "source": [
    "location = './crime.csv'\n",
    "df = pd.read_csv(location , sep = \"\\t\")"
   ]
  },
  {
   "cell_type": "markdown",
   "metadata": {},
   "source": [
    "Tokenizing the tweets :"
   ]
  },
  {
   "cell_type": "code",
   "execution_count": null,
   "metadata": {},
   "outputs": [],
   "source": [
    "ndf = df.head(10) #takes the first x entries\n",
    "\n",
    "dl = ndf.values.tolist()\n",
    "\n",
    "# dl = df.values.tolist()\n",
    "\n",
    "crimes_per_year  = {}\n",
    "crimes_per_month = {}\n",
    "crimes_per_day   = {}\n",
    "crimes           = {}\n",
    "\n",
    "tokens = []\n",
    "for item in dl:\n",
    "    tokens.append(item[0].split(','))\n",
    "    \n",
    "for tok in tokens:\n",
    "    if tok[8] not in crimes_per_year.keys():\n",
    "        crimes_per_year[tok[8]] = [tok[3]]\n",
    "    else:\n",
    "        prev_list = crimes_per_year[tok[8]]\n",
    "        prev_list.append(tok[3])\n",
    "        crimes_per_year[tok[8]] = prev_list\n",
    "        \n",
    "    if tok[9] not in crimes_per_month.keys():\n",
    "        crimes_per_month[tok[9]] = [tok[3]]\n",
    "    else:\n",
    "        prev_list = crimes_per_month[tok[9]]\n",
    "        prev_list.append(tok[3])\n",
    "        crimes_per_month[tok[9]] = prev_list\n",
    "        \n",
    "    if tok[10] not in crimes_per_day.keys():\n",
    "        crimes_per_day[tok[10]] = [tok[3]]\n",
    "    else:\n",
    "        prev_list = crimes_per_day[tok[10]]\n",
    "        prev_list.append(tok[3])\n",
    "        crimes_per_day[tok[10]] = prev_list\n",
    "\n",
    "for i in crimes_per_year.items():\n",
    "    print(i)\n",
    "\n",
    "for i in crimes_per_month.items():\n",
    "    print(i)\n",
    "\n",
    "for i in crimes_per_day.items():\n",
    "    print(i)\n",
    "    \n",
    "# explode = (0.1, 0, 0, 0, 0, 0, 0, 0, 0, 0)  # explode 1st slice\n",
    "\n",
    "# fig = plt.figure(figsize=(18,10), dpi=500)\n",
    "#2 rows 2 cols\n",
    "#first row, first col\n",
    "# ax1 = plt.subplot2grid((2,2),(0,0))\n",
    "for i in crimes_per_year.items():\n",
    "    plt.pie(i[1], labels=crimes_per_year.values(), autopct='%1.1f%%', startangle=140)\n",
    "#     plt.title(\"Generally MCWs*\", color = 'Blue')\n",
    "# first row sec col\n",
    "# ax1 = plt.subplot2grid((2,2), (0, 1))\n",
    "# plt.pie(ps_data, explode=explode, labels=ps_labels, autopct='%1.1f%%', startangle=140)\n",
    "# plt.title(\"MCWs* in Positive Posts\", color = 'Green')\n",
    "# #Second row first column\n",
    "# ax1 = plt.subplot2grid((2,2), (1, 0))\n",
    "# plt.pie(ng_data, explode=explode, labels=ng_labels, autopct='%1.1f%%', startangle=140)\n",
    "# plt.title(\"MCWs* in Negative Posts\", color = 'Red')\n",
    "# #second row second column\n",
    "# ax1 = plt.subplot2grid((2,2), (1, 1))\n",
    "# plt.pie(nt_data, explode=explode, labels=nt_labels, autopct='%1.1f%%', startangle=140)\n",
    "# plt.title(\"MCWs* in Neutral Posts\", color = 'Grey')\n",
    "\n"
   ]
  },
  {
   "cell_type": "code",
   "execution_count": null,
   "metadata": {},
   "outputs": [],
   "source": [
    "# ndf = df.head(10) #takes the first x entries\n",
    "\n",
    "# dl = ndf.values.tolist()\n",
    "\n",
    "dl = df.values.tolist()\n",
    "\n",
    "emotions    = []\n",
    "positives   = []\n",
    "negatives   = []\n",
    "neutrals    = []\n",
    "tokens      = []\n",
    "fusedTokens = []\n",
    "tknzr       = TweetTokenizer(preserve_case = False, \n",
    "                             strip_handles = True, \n",
    "                             reduce_len    = True)\n",
    "for item in dl:\n",
    "#     print(\"\\nITEM = \",item)\n",
    "    tweet = item[3]\n",
    "    emotions.append(item[2])\n",
    "#     if item[2] == \"positive\":\n",
    "#         emotions.append(1)\n",
    "#     elif item[2] == \"negative\":\n",
    "#         emotions.append(-1)\n",
    "#     elif item[2] == \"neutral\":\n",
    "#         emotions.append(0)\n",
    "    \n",
    "    # remove stock market tickers like $GE\n",
    "    tweet = re.sub(r'\\$\\w*' , '' , tweet)\n",
    " \n",
    "    # remove old style retweet text \"RT\"\n",
    "    tweet = re.sub(r'^RT[\\s]+' , '' , tweet)\n",
    " \n",
    "    # remove hyperlinks\n",
    "#     tweet = re.sub(r'https?:\\/\\/.*[\\r\\n]*', '', tweet)\n",
    "    tweet = re.sub(r\"http\\S+\", \"\", tweet)\n",
    "    \n",
    "    # remove hashtags, removing the hash (#) sign only from the word\n",
    "    tweet = re.sub(r'#' , '' , tweet)\n",
    "    \n",
    "    temp = tknzr.tokenize(tweet)\n",
    "    \n",
    "#     print(\"TEMP 1 = \",temp)\n",
    "    \n",
    "#     temp = [w.lower() for w in temp] #convert to lower case\n",
    "    \n",
    "    stop_words = stopwords.words('english')    #sets stop words\n",
    "    newStopWords = [\"i'm\" , \"he's\" , \"she's\" , \"it's\" , \"we're\" , \"you're\" , \"they're\" , \"via\"]\n",
    "    stop_words.extend(newStopWords)\n",
    "    stop_words = set(stop_words)\n",
    "    \n",
    "    temp = [w for w in temp if not w in stop_words]  #removes stop words\n",
    "#     print(\"TEMP 2 = \",temp)\n",
    "\n",
    "    table = str.maketrans('', '', string.punctuation) #remove punctuation\n",
    "    temp = [w.translate(table) for w in temp]\n",
    "#     print(\"TEMP 3 = \",temp)\n",
    "\n",
    "    temp = [word for word in temp if word.isalpha()] #remove remaining tokens that are not alphabetic\n",
    "#     print(\"TEMP 4 = \",temp)\n",
    "\n",
    "#     porter = PorterStemmer() #stemming (not that useful)\n",
    "#     temp = [porter.stem(word) for word in temp]\n",
    "\n",
    "    if item[2] == \"positive\":  #need to give the words positive and negative weight so that the most common words in positive posts is not \"tomorrow\"\n",
    "        positives.extend(temp)\n",
    "    elif item[2] == \"negative\":\n",
    "        negatives.extend(temp)\n",
    "    elif item[2] == \"neutral\":\n",
    "        neutrals.extend(temp)\n",
    "        \n",
    "    fusedTokens.extend(temp)\n",
    "    tokens.append(temp)\n",
    "    \n",
    "# print(\"\\n\\033[1;33mPrinting Tokens\\033[0m\")\n",
    "# for i,tok in enumerate(tokens):\n",
    "#     print(\"\\033[1;34m->\\033[0m\",tok)\n",
    "# print(\"\\n\\033[1;33mPrinting Fuzed Tokens\\033[0m\")\n",
    "# print(fusedTokens)"
   ]
  },
  {
   "cell_type": "code",
   "execution_count": null,
   "metadata": {},
   "outputs": [],
   "source": [
    "fz_count = Counter(fusedTokens)\n",
    "# print(\"\\033[1;33mGenerally most common words:\\033[0m\\n\" , fz_count.most_common(10))\n",
    "\n",
    "ps_count = Counter(positives)\n",
    "# print(\"\\033[1;33m\\nMost common words found in positive posts:\\033[0m\\n\" , ps_count.most_common(10))\n",
    "\n",
    "ng_count = Counter(negatives)\n",
    "# print(\"\\033[1;33m\\nMost common words found in negative posts:\\033[0m\\n\" , ng_count.most_common(10))\n",
    "\n",
    "nt_count = Counter(neutrals)\n",
    "# print(\"\\033[1;33m\\nMost common words found in neutral posts:\\033[0m\\n\" , nt_count.most_common(10))\n",
    "\n",
    "#The data for the pie chart\n",
    "fz_data   = []\n",
    "fz_labels = []\n",
    "for freq in fz_count.most_common(10):\n",
    "    fz_labels.append(freq[0])\n",
    "    fz_data.append(freq[1])\n",
    "\n",
    "ps_data   = []\n",
    "ps_labels = []\n",
    "for freq in ps_count.most_common(10):\n",
    "    ps_labels.append(freq[0])\n",
    "    ps_data.append(freq[1])\n",
    "\n",
    "ng_data   = []\n",
    "ng_labels = []\n",
    "for freq in ng_count.most_common(10):\n",
    "    ng_labels.append(freq[0])\n",
    "    ng_data.append(freq[1])\n",
    "\n",
    "nt_data   = []\n",
    "nt_labels = []\n",
    "for freq in nt_count.most_common(10):\n",
    "    nt_labels.append(freq[0])\n",
    "    nt_data.append(freq[1])\n",
    "\n",
    "# Data to plot\n",
    "# labels = 'Python', 'C++', 'Ruby', 'Java'\n",
    "# sizes = [215, 130, 245, 210]\n",
    "# colors = ['gold', 'yellowgreen', 'lightcoral', 'lightskyblue']\n",
    "explode = (0.1, 0, 0, 0, 0, 0, 0, 0, 0, 0)  # explode 1st slice\n",
    "\n",
    "fig = plt.figure(figsize=(18,10), dpi=500)\n",
    "#2 rows 2 cols\n",
    "#first row, first col\n",
    "ax1 = plt.subplot2grid((2,2),(0,0))\n",
    "plt.pie(fz_data, explode=explode, labels=fz_labels, autopct='%1.1f%%', startangle=140)\n",
    "plt.title(\"Generally MCWs*\", color = 'Blue')\n",
    "# first row sec col\n",
    "ax1 = plt.subplot2grid((2,2), (0, 1))\n",
    "plt.pie(ps_data, explode=explode, labels=ps_labels, autopct='%1.1f%%', startangle=140)\n",
    "plt.title(\"MCWs* in Positive Posts\", color = 'Green')\n",
    "#Second row first column\n",
    "ax1 = plt.subplot2grid((2,2), (1, 0))\n",
    "plt.pie(ng_data, explode=explode, labels=ng_labels, autopct='%1.1f%%', startangle=140)\n",
    "plt.title(\"MCWs* in Negative Posts\", color = 'Red')\n",
    "#second row second column\n",
    "ax1 = plt.subplot2grid((2,2), (1, 1))\n",
    "plt.pie(nt_data, explode=explode, labels=nt_labels, autopct='%1.1f%%', startangle=140)\n",
    "plt.title(\"MCWs* in Neutral Posts\", color = 'Grey')\n",
    "\n",
    "# import numpy as np\n",
    "# fig1 = plt.figure(figsize=(30,10), dpi=100)\n",
    "\n",
    "# ax1 = plt.subplot2grid((2,2),(0,0))\n",
    "# labels=[f'{x} {np.round(y/sum(fz_data)*100,1)}%' for x,y in fz_count.most_common(10)]\n",
    "# ax1.pie(fz_data, labels=fz_labels, startangle=140, rotatelabels=True)  # No %\n",
    "# ax1.axis('equal')  # Equal aspect ratio ensures that pie is drawn as a circle.\n",
    "# fig1 = plt.gcf()\n",
    "# fig1.set_size_inches(5,5)\n",
    "# circle = plt.Circle(xy=(0,0), radius=0.7, facecolor='white')\n",
    "# plt.gca().add_artist(circle)\n",
    "# plt.title(\"Generally MCWs*\", color = 'Blue')\n",
    "\n",
    "# ax1 = plt.subplot2grid((2,2),(0,1))\n",
    "# labels=[f'{x} {np.round(y/sum(ps_data)*100,1)}%' for x,y in ps_count.most_common(10)]\n",
    "# ax1.pie(ps_data, labels=ps_labels, startangle=140, rotatelabels=True)  # No %\n",
    "# ax1.axis('equal')  # Equal aspect ratio ensures that pie is drawn as a circle.\n",
    "# fig1 = plt.gcf()\n",
    "# fig1.set_size_inches(5,5)\n",
    "# circle = plt.Circle(xy=(0,0), radius=0.7, facecolor='white')\n",
    "# plt.gca().add_artist(circle)\n",
    "# plt.title(\"MCWs* in Positive Posts\", color = 'Green')\n",
    "\n",
    "# ax1 = plt.subplot2grid((2,2),(1,0))\n",
    "# labels=[f'{x} {np.round(y/sum(ng_data)*100,1)}%' for x,y in ng_count.most_common(10)]\n",
    "# ax1.pie(ng_data, labels=ng_labels, startangle=140, rotatelabels=True)  # No %\n",
    "# ax1.axis('equal')  # Equal aspect ratio ensures that pie is drawn as a circle.\n",
    "# fig1 = plt.gcf()\n",
    "# fig1.set_size_inches(5,5)\n",
    "# circle = plt.Circle(xy=(0,0), radius=0.7, facecolor='white')\n",
    "# plt.gca().add_artist(circle)\n",
    "# plt.title(\"MCWs* in Negative Posts\", color = 'Red')\n",
    "\n",
    "# ax1 = plt.subplot2grid((2,2),(1,1))\n",
    "# labels=[f'{x} {np.round(y/sum(nt_data)*100,1)}%' for x,y in nt_count.most_common(10)]\n",
    "# ax1.pie(nt_data, labels=nt_labels, startangle=140, rotatelabels=True)  # No %\n",
    "# ax1.axis('equal')  # Equal aspect ratio ensures that pie is drawn as a circle.\n",
    "# fig1 = plt.gcf()\n",
    "# fig1.set_size_inches(5,5)\n",
    "# circle = plt.Circle(xy=(0,0), radius=0.7, facecolor='white')\n",
    "# plt.gca().add_artist(circle)\n",
    "# plt.title(\"MCWs* in Neutral Posts\", color = 'Grey')\n",
    "\n",
    "# plt.show();\n",
    "\n",
    "\n",
    "# Plot\n",
    "# plt.pie(data, explode=explode, labels=labels, autopct='%1.1f%%', shadow=True, startangle=140)\n",
    "\n",
    "# plt.axis('equal')\n",
    "plt.show()\n",
    "print(\"\\033[1;33m*MCW = Most Common Words\\033[0m\")"
   ]
  },
  {
   "cell_type": "code",
   "execution_count": null,
   "metadata": {},
   "outputs": [],
   "source": [
    "# count = Counter(fusedTokens)\n",
    "# print(\"\\033[1;33mGenerally most common words:\\033[0m\\n\" , count.most_common(10))\n",
    "\n",
    "# count = Counter(positives)\n",
    "# print(\"\\033[1;33m\\nMost common words found in positive posts:\\033[0m\\n\" , count.most_common(10))\n",
    "\n",
    "# count = Counter(negatives)\n",
    "# print(\"\\033[1;33m\\nMost common words found in negative posts:\\033[0m\\n\" , count.most_common(10))\n",
    "\n",
    "# count = Counter(neutrals)\n",
    "# print(\"\\033[1;33m\\nMost common words found in neutral posts:\\033[0m\\n\" , count.most_common(10))"
   ]
  },
  {
   "cell_type": "code",
   "execution_count": null,
   "metadata": {},
   "outputs": [],
   "source": [
    "plt.figure(figsize=(18,10))\n",
    "\n",
    "final = \"\"\n",
    "for word in fusedTokens:\n",
    "    final += \" \" + word\n",
    "    \n",
    "wc = WordCloud(background_color = \"black\", width = 640, height = 320).generate(final)\n",
    "\n",
    "plt.subplot2grid((2,2),(0,0))\n",
    "plt.imshow(wc)\n",
    "plt.axis(\"off\")\n",
    "# plt.show()\n",
    "\n",
    "# ----------------------------------------------------------#\n",
    "\n",
    "final = \"\"\n",
    "for word in positives:\n",
    "    final += \" \" + word\n",
    "    \n",
    "wc = WordCloud(background_color = \"red\", width = 640, height = 320).generate(final)\n",
    "\n",
    "plt.subplot2grid((2,2),(0,1))\n",
    "plt.imshow(wc)\n",
    "plt.axis(\"off\")\n",
    "# plt.show()\n",
    "\n",
    "# ----------------------------------------------------------#\n",
    "\n",
    "final = \"\"\n",
    "for word in negatives:\n",
    "    final += \" \" + word\n",
    "    \n",
    "wc = WordCloud(background_color = \"green\", width = 640, height = 320).generate(final)\n",
    "\n",
    "plt.subplot2grid((2,2),(1,0))\n",
    "plt.imshow(wc)\n",
    "plt.axis(\"off\")\n",
    "# plt.show()\n",
    "\n",
    "# ----------------------------------------------------------#\n",
    "\n",
    "final = \"\"\n",
    "for word in neutrals:\n",
    "    final += \" \" + word\n",
    "    \n",
    "wc = WordCloud(background_color = \"blue\", width = 640, height = 320).generate(final)\n",
    "\n",
    "plt.subplot2grid((2,2),(1,1))\n",
    "plt.imshow(wc)\n",
    "plt.axis(\"off\")\n",
    "plt.show()"
   ]
  },
  {
   "cell_type": "markdown",
   "metadata": {},
   "source": [
    "Generally we can see that words like \"love\" appear in positive posts as expected , whereas \"positive\" words like \"like\" appear in negative posts . Also there are many neutral words like \"tomorrow\" that have the same distribution in both positive and negative posts."
   ]
  },
  {
   "cell_type": "markdown",
   "metadata": {},
   "source": [
    "Bag of words :"
   ]
  },
  {
   "cell_type": "code",
   "execution_count": null,
   "metadata": {},
   "outputs": [],
   "source": [
    "newTokens = []\n",
    "for item in tokens:\n",
    "    final = \"\"\n",
    "    for word in item:\n",
    "        final += \" \" + word\n",
    "#     print(final)\n",
    "    newTokens.append(final)\n",
    "    \n",
    "# bow_vectorizer = CountVectorizer(max_df=1.0, min_df=1, max_features=100, stop_words='english')\n",
    "bow_vectorizer = CountVectorizer(max_features=7000)\n",
    "bow_xtrain = bow_vectorizer.fit_transform(newTokens)  #TWEETS : a list with the actual tweets \n",
    "# print(bow_vectorizer.get_feature_names())\n",
    "# print(bow_xtrain.toarray())\n",
    "\n",
    "# The output is a numpy array of features. The dimensionality of this array \n",
    "# depends on the number of TWEETS (shape should be number_of_tweets ∙ vocabulary_size) \n",
    "print(bow_xtrain.shape)\n",
    "\n",
    "# filename = \"bow.pkl\"\n",
    "outfile = open(\"bigbow.pkl\" , \"wb\")\n",
    "pickle.dump(bow_xtrain , outfile)\n",
    "outfile.close()"
   ]
  },
  {
   "cell_type": "markdown",
   "metadata": {},
   "source": [
    "TFIDF :"
   ]
  },
  {
   "cell_type": "code",
   "execution_count": null,
   "metadata": {},
   "outputs": [],
   "source": [
    "# tfidf_vectorizer = TfidfVectorizer(max_df=1.0, min_df=1, max_features=1000, stop_words='english') \n",
    "tfidf_vectorizer = TfidfVectorizer(max_features=7000)\n",
    "tfidf = tfidf_vectorizer.fit_transform(newTokens)\n",
    "print(tfidf.shape) #the output is a numpy array of features\n",
    "\n",
    "\n",
    "# filename = \"tfidf.pkl\"\n",
    "outfile = open(\"bigtfidf.pkl\" , \"wb\")\n",
    "pickle.dump(tfidf , outfile)\n",
    "outfile.close()"
   ]
  },
  {
   "cell_type": "markdown",
   "metadata": {},
   "source": [
    "W2V :"
   ]
  },
  {
   "cell_type": "code",
   "execution_count": null,
   "metadata": {},
   "outputs": [],
   "source": [
    "# tokenized_tweet = tweets.apply(lambda x: x.split()) # tokenizing \n",
    "\n",
    "featuresSize = 300\n",
    "\n",
    "model_w2v = gensim.models.Word2Vec(tokens,\n",
    "                                   size      = featuresSize, # desired no. of features/independent variables\n",
    "                                   window    = 5,  # context window size\n",
    "                                   min_count = 2,\n",
    "                                   sg        = 1,  # 1 for skip-gram model\n",
    "                                   hs        = 0,\n",
    "                                   negative  = 10, # for negative sampling\n",
    "                                   workers   = 2,  # no.of cores\n",
    "                                   seed      = 34) \n",
    "\n",
    "model_w2v.train(tokens, total_examples = len(tokens), epochs = 20)\n"
   ]
  },
  {
   "cell_type": "code",
   "execution_count": null,
   "metadata": {},
   "outputs": [],
   "source": [
    "def tsne_plot(model):\n",
    "    \"Creates and TSNE model and plots it\"\n",
    "    labels = []\n",
    "    tokens = []\n",
    "    for word in model.wv.vocab:\n",
    "        tokens.append(model.wv.__getitem__(word))\n",
    "        labels.append(word)\n",
    "    \n",
    "    tsne_model = TSNE(perplexity = 40, n_components = 2, init = 'pca', n_iter = 2500, random_state = 23)\n",
    "    new_values = tsne_model.fit_transform(tokens)\n",
    "\n",
    "    x = []\n",
    "    y = []\n",
    "    for value in new_values:\n",
    "        x.append(value[0])\n",
    "        y.append(value[1])\n",
    "        \n",
    "    plt.figure(figsize = (16,16)) \n",
    "    \n",
    "    for i in range(len(x)):\n",
    "        plt.scatter(x[i],y[i])\n",
    "        plt.annotate(labels[i], xy = (x[i], y[i]), xytext = (5,2), textcoords = 'offset points', ha = 'right', va = 'bottom')\n",
    "        \n",
    "    plt.show()"
   ]
  },
  {
   "cell_type": "code",
   "execution_count": null,
   "metadata": {},
   "outputs": [],
   "source": [
    "tsne_plot(model_w2v)"
   ]
  },
  {
   "cell_type": "markdown",
   "metadata": {},
   "source": [
    "Adding dictionaries :"
   ]
  },
  {
   "cell_type": "code",
   "execution_count": null,
   "metadata": {},
   "outputs": [],
   "source": [
    "dictNum  = 1\n",
    "allDicts = []\n",
    "\n",
    "dictLocation = \"./lexica/generic/generic.txt\"\n",
    "file = open(dictLocation, \"r\")\n",
    "genericDict = {}\n",
    "for line in file:\n",
    "    temp  = []\n",
    "    count = 1\n",
    "    for word in line.split():\n",
    "        if count == 1:\n",
    "            temp.append(word)\n",
    "        else:\n",
    "            temp.append(float(word))\n",
    "        count += 1\n",
    "    genericDict[temp[0]] = temp[1]\n",
    "    \n",
    "allDicts.extend([genericDict])"
   ]
  },
  {
   "cell_type": "code",
   "execution_count": null,
   "metadata": {},
   "outputs": [],
   "source": [
    "# dictNum += 1\n",
    "\n",
    "# dictLocation = \"./lexica/emotweet/valence_tweet.txt\"\n",
    "# file = open(dictLocation, \"r\")\n",
    "# vl_dic = []\n",
    "# for line in file:\n",
    "#     print(line)\n",
    "#     temp = []\n",
    "#     count = 1\n",
    "#     for word in line.split():\n",
    "#         print(word)\n",
    "#         if count == 1:\n",
    "#             temp.append(word)\n",
    "#         else:\n",
    "#             temp.append(float(word))\n",
    "#         count += 1\n",
    "#     vl_dic.extend([temp])\n",
    "    \n",
    "# allDicts.extend([vl_dic])"
   ]
  },
  {
   "cell_type": "code",
   "execution_count": null,
   "metadata": {},
   "outputs": [],
   "source": [
    "dictNum += 1\n",
    "\n",
    "dictLocation = \"./lexica/affin/affin.txt\"\n",
    "file = open(dictLocation, \"r\")\n",
    "af_dic = {}\n",
    "\n",
    "for line in file:\n",
    "    temp = []\n",
    "    split_phrase = []\n",
    "\n",
    "    for word in line.split():\n",
    "        split_phrase.append(word)\n",
    "    \n",
    "    tmp_str = \"\"\n",
    "    for ph_word in split_phrase[:-1]:\n",
    "        if tmp_str == \"\":\n",
    "            tmp_str += ph_word\n",
    "        else:\n",
    "            tmp_str += \" \" + ph_word\n",
    "    \n",
    "    temp.append(tmp_str)\n",
    "    temp.append(float(split_phrase[-1]))\n",
    "\n",
    "#     af_dic.extend([temp])\n",
    "    af_dic[temp[0]] = temp[1]\n",
    "    \n",
    "allDicts.extend([af_dic])"
   ]
  },
  {
   "cell_type": "code",
   "execution_count": null,
   "metadata": {},
   "outputs": [],
   "source": [
    "dictNum += 1\n",
    "\n",
    "dictLocation = \"./lexica/nrc/val.txt\"\n",
    "file = open(dictLocation, \"r\")\n",
    "nrc_dic = {}\n",
    "\n",
    "for line in file:\n",
    "    temp = []\n",
    "    split_phrase = []\n",
    "\n",
    "    for word in line.split():\n",
    "        split_phrase.append(word)\n",
    "    \n",
    "    tmp_str = \"\"\n",
    "    for ph_word in split_phrase[:-1]:\n",
    "        if tmp_str == \"\":\n",
    "            tmp_str += ph_word\n",
    "        else:\n",
    "            tmp_str += \" \" + ph_word\n",
    "    \n",
    "    temp.append(tmp_str)\n",
    "    temp.append(float(split_phrase[-1]))\n",
    "    nrc_dic[temp[0]] = temp[1]\n",
    "#     nrc_dic.extend([temp])\n",
    "    \n",
    "allDicts.extend([nrc_dic])"
   ]
  },
  {
   "cell_type": "code",
   "execution_count": null,
   "metadata": {},
   "outputs": [],
   "source": [
    "dictNum += 1\n",
    "\n",
    "dictLocation = \"./lexica/nrctag/val.txt\"\n",
    "file = open(dictLocation, \"r\")\n",
    "nrctag_dic = {}\n",
    "\n",
    "for line in file:\n",
    "    temp = []\n",
    "    split_phrase = []\n",
    "\n",
    "    for word in line.split():\n",
    "        split_phrase.append(word)\n",
    "    \n",
    "    tmp_str = \"\"\n",
    "    for ph_word in split_phrase[:-1]:\n",
    "        if tmp_str == \"\":\n",
    "            tmp_str += ph_word\n",
    "        else:\n",
    "            tmp_str += \" \" + ph_word\n",
    "    \n",
    "    temp.append(tmp_str)\n",
    "    temp.append(float(split_phrase[-1]))\n",
    "    nrctag_dic[temp[0]] = temp[1]\n",
    "#     nrctag_dic.extend([temp])\n",
    "    \n",
    "allDicts.extend([nrctag_dic])"
   ]
  },
  {
   "cell_type": "markdown",
   "metadata": {},
   "source": [
    "Making the tweet vectors and adding the dictionary values to them :"
   ]
  },
  {
   "cell_type": "code",
   "execution_count": null,
   "metadata": {},
   "outputs": [],
   "source": [
    "word_vectors = model_w2v.wv\n",
    "allTweetFeatsList = []\n",
    "allTweetNoDict = []\n",
    "\n",
    "for sentence in tokens:\n",
    "#     print(\"\\n\",sentence)\n",
    "    \n",
    "    tweetFeatures = []\n",
    "    tweetNod = []\n",
    "    \n",
    "    for i in range(0,featuresSize):\n",
    "        value     = 0\n",
    "        wordCount = 0\n",
    "        \n",
    "        for word in sentence:\n",
    "            if word in word_vectors.vocab:\n",
    "                wordCount += 1\n",
    "                value     += word_vectors[word][i]\n",
    "                \n",
    "        if wordCount != 0:\n",
    "            tweetFeatures.append(value / wordCount)\n",
    "            tweetNod.append(value / wordCount)\n",
    "        else:\n",
    "            tweetFeatures.append(0)\n",
    "            tweetNod.append(0)\n",
    "    \n",
    "    allTweetNoDict.extend([tweetNod])\n",
    "    \n",
    "    for dic in allDicts:\n",
    "#         print(dic)\n",
    "        value     = 0\n",
    "        wordCount = 0\n",
    "\n",
    "        for word in sentence:\n",
    "#             print(word)\n",
    "            if word in dic:\n",
    "                wordCount += 1\n",
    "                value     += dic[word]\n",
    "\n",
    "        if wordCount != 0:\n",
    "            tweetFeatures.append(value / wordCount)\n",
    "        else:\n",
    "            tweetFeatures.append(0)\n",
    "\n",
    "# #         print(tweetFeatures , \"\\n\")\n",
    "    \n",
    "            \n",
    "    allTweetFeatsList.extend([tweetFeatures])\n",
    "\n",
    "# filename = \"wordEmbs.pkl\"\n",
    "outfile = open(\"bigwordEmbs.pkl\" , \"wb\")\n",
    "pickle.dump(allTweetFeatsList , outfile)\n",
    "outfile.close()\n",
    "\n",
    "outfile = open(\"bigwordEmbsNoDict.pkl\" , \"wb\")\n",
    "pickle.dump(allTweetNoDict , outfile)\n",
    "outfile.close()"
   ]
  },
  {
   "cell_type": "markdown",
   "metadata": {},
   "source": [
    "SVC with bag of words :"
   ]
  },
  {
   "cell_type": "code",
   "execution_count": null,
   "metadata": {},
   "outputs": [],
   "source": [
    "infile = open(\"bigbow.pkl\" , \"rb\")\n",
    "bow_xtrain = pickle.load(infile)\n",
    "infile.close()\n",
    "\n",
    "# input for this method is any array of features\n",
    "xtrain_bow, xvalid_bow, ytrain, yvalid = train_test_split(bow_xtrain, emotions, random_state = 42, test_size = 0.2)"
   ]
  },
  {
   "cell_type": "code",
   "execution_count": null,
   "metadata": {},
   "outputs": [],
   "source": [
    "svcBow = svm.SVC(kernel = 'linear', C = 1, probability = True)\n",
    "\n",
    "# xtrain_bow: bag of words features for train data\n",
    "# ytrain: train data labels\n",
    "svcBow = svcBow.fit(xtrain_bow, ytrain)\n",
    "\n",
    "# probPrediction = svcBow.predict_proba(xvalid_bow) #predict on the validation set\n",
    "prediction_int = svcBow.predict(xvalid_bow)\n",
    "prediction_int = prediction_int.tolist()\n",
    "\n",
    "# evaluate on the validation set\n",
    "tmp_svm_bow_score = f1_score(yvalid, prediction_int, average = \"micro\")"
   ]
  },
  {
   "cell_type": "code",
   "execution_count": null,
   "metadata": {},
   "outputs": [],
   "source": [
    "outfile = open(\"predbow.pkl\" , \"wb\")\n",
    "pickle.dump(tmp_svm_bow_score , outfile)\n",
    "outfile.close()"
   ]
  },
  {
   "cell_type": "markdown",
   "metadata": {},
   "source": [
    "SVC with TFIDF :"
   ]
  },
  {
   "cell_type": "code",
   "execution_count": null,
   "metadata": {},
   "outputs": [],
   "source": [
    "infile = open(\"bigtfidf.pkl\" , \"rb\")\n",
    "tfidf = pickle.load(infile)\n",
    "infile.close()\n",
    "\n",
    "# input for this method is any array of features\n",
    "xtrain, xvalid, ytrain, yvalid = train_test_split(tfidf , emotions, random_state = 42, test_size = 0.2)"
   ]
  },
  {
   "cell_type": "code",
   "execution_count": null,
   "metadata": {},
   "outputs": [],
   "source": [
    "svcIdf = svm.SVC(kernel = 'linear', C = 1, probability = True)\n",
    "\n",
    "# xtrain: tfidf features for train data\n",
    "# ytrain: train data labels\n",
    "svcIdf = svcIdf.fit(xtrain, ytrain) \n",
    "\n",
    "# probPrediction = svcIdf.predict_proba(xvalid) #predict on the validation set\n",
    "prediction_int = svcIdf.predict(xvalid)\n",
    "prediction_int = prediction_int.tolist()\n",
    "\n",
    "# evaluate on the validation set\n",
    "tmp_svm_tdidf_score = f1_score(yvalid, prediction_int, average = \"micro\")"
   ]
  },
  {
   "cell_type": "code",
   "execution_count": null,
   "metadata": {},
   "outputs": [],
   "source": [
    "outfile = open(\"predtfidf.pkl\" , \"wb\")\n",
    "pickle.dump(tmp_svm_tdidf_score , outfile)\n",
    "outfile.close()"
   ]
  },
  {
   "cell_type": "markdown",
   "metadata": {},
   "source": [
    "SVC with W2V :"
   ]
  },
  {
   "cell_type": "code",
   "execution_count": null,
   "metadata": {},
   "outputs": [],
   "source": [
    "infile = open(\"bigwordEmbs.pkl\" , \"rb\")\n",
    "allTweetFeatsList = pickle.load(infile)\n",
    "infile.close()\n",
    "\n",
    "# input for this method is any array of features\n",
    "xtrain, xvalid, ytrain, yvalid = train_test_split(allTweetFeatsList , emotions, random_state = 42, test_size = 0.2)"
   ]
  },
  {
   "cell_type": "code",
   "execution_count": null,
   "metadata": {},
   "outputs": [],
   "source": [
    "svcW2V = svm.SVC(kernel = 'linear', C = 1, probability = True)\n",
    "\n",
    "# xtrain: word2vec features for train data\n",
    "# ytrain: train data labels\n",
    "svcW2V = svcW2V.fit(xtrain, ytrain)\n",
    "\n",
    "# probPrediction = svcW2V.predict_proba(xvalid) #predict on the validation set\n",
    "prediction_int = svcW2V.predict(xvalid)\n",
    "prediction_int = prediction_int.tolist()\n",
    "\n",
    "# evaluate on the validation set\n",
    "tmp_svm_w2v_score = f1_score(yvalid, prediction_int , average = \"micro\")"
   ]
  },
  {
   "cell_type": "code",
   "execution_count": null,
   "metadata": {},
   "outputs": [],
   "source": [
    "outfile = open(\"predwordEmbs.pkl\" , \"wb\")\n",
    "pickle.dump(tmp_svm_w2v_score , outfile)\n",
    "outfile.close()"
   ]
  },
  {
   "cell_type": "markdown",
   "metadata": {},
   "source": [
    "SVC with W2V while not using dictionaries :"
   ]
  },
  {
   "cell_type": "code",
   "execution_count": null,
   "metadata": {},
   "outputs": [],
   "source": [
    "infile = open(\"bigwordEmbsNoDict.pkl\" , \"rb\")\n",
    "allTweetNod = pickle.load(infile)\n",
    "infile.close()\n",
    "\n",
    "# input for this method is any array of features\n",
    "xtrain, xvalid, ytrain, yvalid = train_test_split(allTweetNod , emotions, random_state = 42, test_size = 0.2)"
   ]
  },
  {
   "cell_type": "code",
   "execution_count": null,
   "metadata": {},
   "outputs": [],
   "source": [
    "svcW2V_Nod = svm.SVC(kernel = 'linear', C = 1, probability = True)\n",
    "\n",
    "# xtrain: word2vec features for train data\n",
    "# ytrain: train data labels\n",
    "svcW2V_Nod = svcW2V_Nod.fit(xtrain, ytrain)\n",
    "\n",
    "# probPrediction = svcW2V.predict_proba(xvalid) #predict on the validation set\n",
    "prediction_int = svcW2V_Nod.predict(xvalid)\n",
    "prediction_int = prediction_int.tolist()\n",
    "\n",
    "# evaluate on the validation set\n",
    "tmp_svm_w2v_score_nod = f1_score(yvalid, prediction_int , average = \"micro\")"
   ]
  },
  {
   "cell_type": "code",
   "execution_count": null,
   "metadata": {},
   "outputs": [],
   "source": [
    "outfile = open(\"predwordEmbsNoDict.pkl\" , \"wb\")\n",
    "pickle.dump(tmp_svm_w2v_score_nod , outfile)\n",
    "outfile.close()"
   ]
  },
  {
   "cell_type": "markdown",
   "metadata": {},
   "source": [
    "Doing the same type of predictions with the test data :"
   ]
  },
  {
   "cell_type": "code",
   "execution_count": null,
   "metadata": {},
   "outputs": [],
   "source": [
    "location = './twitter_data/test2017.tsv'\n",
    "df = pd.read_csv(location , sep = \"\\t\" , header = None)\n",
    "emoLocation = './twitter_data/SemEval2017_task4_subtaskA_test_english_gold.txt'\n",
    "emoFile = open(emoLocation, \"r\")\n",
    "testEmotions = []\n",
    "for line in emoFile:\n",
    "    temp  = []\n",
    "    count = 1\n",
    "    for word in line.split():\n",
    "        if count == 2:\n",
    "            temp.append(word)\n",
    "        count += 1\n",
    "    testEmotions.extend(temp)"
   ]
  },
  {
   "cell_type": "markdown",
   "metadata": {},
   "source": [
    "Tokenizing the tweets :"
   ]
  },
  {
   "cell_type": "code",
   "execution_count": null,
   "metadata": {},
   "outputs": [],
   "source": [
    "# ndf = df.head(10) #takes the first x entries\n",
    "\n",
    "# dl = ndf.values.tolist()\n",
    "\n",
    "dl = df.values.tolist()\n",
    "\n",
    "tokens      = []\n",
    "fusedTokens = []\n",
    "tknzr       = TweetTokenizer(preserve_case = False, \n",
    "                             strip_handles = True, \n",
    "                             reduce_len    = True)\n",
    "for item in dl:\n",
    "    tweet = item[3]\n",
    "    \n",
    "    # remove stock market tickers like $GE\n",
    "    tweet = re.sub(r'\\$\\w*' , '' , tweet)\n",
    " \n",
    "    # remove old style retweet text \"RT\"\n",
    "    tweet = re.sub(r'^RT[\\s]+' , '' , tweet)\n",
    " \n",
    "    # remove hyperlinks\n",
    "    tweet = re.sub(r\"http\\S+\", \"\", tweet)\n",
    "    \n",
    "    # remove hashtags, removing the hash (#) sign only from the word\n",
    "    tweet = re.sub(r'#' , '' , tweet)\n",
    "    \n",
    "    temp = tknzr.tokenize(tweet)\n",
    "    \n",
    "    stop_words = stopwords.words('english')    #sets stop words\n",
    "    newStopWords = [\"i'm\" , \"he's\" , \"she's\" , \"it's\" , \"we're\" , \"you're\" , \"they're\" , \"via\"]\n",
    "    stop_words.extend(newStopWords)\n",
    "    stop_words = set(stop_words)\n",
    "    \n",
    "    temp = [w for w in temp if not w in stop_words]  #removes stop words\n",
    "\n",
    "    table = str.maketrans('', '', string.punctuation) #remove punctuation\n",
    "    temp = [w.translate(table) for w in temp]\n",
    "#     print(\"TEMP 3 = \",temp)\n",
    "    temp = [word for word in temp if word.isalpha()] #remove remaining tokens that are not alphabetic\n",
    "\n",
    "#     porter = PorterStemmer() #stemming (not that useful)\n",
    "#     temp = [porter.stem(word) for word in temp]\n",
    "\n",
    "    \n",
    "    fusedTokens.extend(temp)\n",
    "    tokens.append(temp)"
   ]
  },
  {
   "cell_type": "markdown",
   "metadata": {},
   "source": [
    "Bag of words :"
   ]
  },
  {
   "cell_type": "code",
   "execution_count": null,
   "metadata": {},
   "outputs": [],
   "source": [
    "newTokens = []\n",
    "for item in tokens:\n",
    "    final = \"\"\n",
    "    for word in item:\n",
    "        final += \" \" + word\n",
    "    newTokens.append(final)\n",
    "    \n",
    "bow_xtest = bow_vectorizer.transform(newTokens)  #TWEETS : a list with the actual tweets \n",
    "\n",
    "# The output is a numpy array of features. The dimensionality of this array \n",
    "# depends on the number of TWEETS (shape should be number_of_tweets ∙ vocabulary_size) \n",
    "print(bow_xtest.shape)\n",
    "\n",
    "outfile = open(\"testbow.pkl\" , \"wb\")\n",
    "pickle.dump(bow_xtest , outfile)\n",
    "outfile.close()"
   ]
  },
  {
   "cell_type": "markdown",
   "metadata": {},
   "source": [
    "TFIDF :"
   ]
  },
  {
   "cell_type": "code",
   "execution_count": null,
   "metadata": {},
   "outputs": [],
   "source": [
    "tfidf = tfidf_vectorizer.transform(newTokens)\n",
    "print(tfidf.shape) #the output is a numpy array of features\n",
    "\n",
    "\n",
    "outfile = open(\"testtfidf.pkl\" , \"wb\")\n",
    "pickle.dump(tfidf , outfile)\n",
    "outfile.close()"
   ]
  },
  {
   "cell_type": "markdown",
   "metadata": {},
   "source": [
    "W2V :"
   ]
  },
  {
   "cell_type": "code",
   "execution_count": null,
   "metadata": {},
   "outputs": [],
   "source": [
    "featuresSize = 300\n",
    "\n",
    "model_w2v = gensim.models.Word2Vec(tokens,\n",
    "                                   size      = featuresSize, # desired no. of features/independent variables\n",
    "                                   window    = 5,  # context window size\n",
    "                                   min_count = 2,\n",
    "                                   sg        = 1,  # 1 for skip-gram model\n",
    "                                   hs        = 0,\n",
    "                                   negative  = 10, # for negative sampling\n",
    "                                   workers   = 2,  # no.of cores\n",
    "                                   seed      = 34) \n",
    "\n",
    "model_w2v.train(tokens, total_examples = len(tokens), epochs = 20)"
   ]
  },
  {
   "cell_type": "code",
   "execution_count": null,
   "metadata": {},
   "outputs": [],
   "source": [
    "tsne_plot(model_w2v)"
   ]
  },
  {
   "cell_type": "markdown",
   "metadata": {},
   "source": [
    "Modifying the vectors and adding the dictionary parameteres to them :"
   ]
  },
  {
   "cell_type": "code",
   "execution_count": null,
   "metadata": {},
   "outputs": [],
   "source": [
    "word_vectors = model_w2v.wv\n",
    "allTweetFeatsList = []\n",
    "allTweetNoDict = []\n",
    "\n",
    "for sentence in tokens:\n",
    "#     print(\"\\n\",sentence)\n",
    "    \n",
    "    tweetFeatures = []\n",
    "    tweetNod = []\n",
    "    \n",
    "    for i in range(0,featuresSize):\n",
    "        value     = 0\n",
    "        wordCount = 0\n",
    "        \n",
    "        for word in sentence:\n",
    "            if word in word_vectors.vocab:\n",
    "                wordCount += 1\n",
    "                value     += word_vectors[word][i]\n",
    "                \n",
    "        if wordCount != 0:\n",
    "            tweetFeatures.append(value / wordCount)\n",
    "            tweetNod.append(value / wordCount)\n",
    "        else:\n",
    "            tweetFeatures.append(0)\n",
    "            tweetNod.append(0)\n",
    "    \n",
    "    allTweetNoDict.extend([tweetNod])\n",
    "    \n",
    "    for dic in allDicts:\n",
    "#         print(dic)\n",
    "        value     = 0\n",
    "        wordCount = 0\n",
    "\n",
    "        for word in sentence:\n",
    "#             print(word)\n",
    "            if word in dic:\n",
    "                wordCount += 1\n",
    "                value     += dic[word]\n",
    "\n",
    "        if wordCount != 0:\n",
    "            tweetFeatures.append(value / wordCount)\n",
    "        else:\n",
    "            tweetFeatures.append(0)\n",
    "\n",
    "# #         print(tweetFeatures , \"\\n\")\n",
    "    \n",
    "            \n",
    "    allTweetFeatsList.extend([tweetFeatures])\n",
    "\n",
    "# filename = \"wordEmbs.pkl\"\n",
    "outfile = open(\"testwordEmbs.pkl\" , \"wb\")\n",
    "pickle.dump(allTweetFeatsList , outfile)\n",
    "outfile.close()\n",
    "\n",
    "outfile = open(\"testwordEmbsNoDict.pkl\" , \"wb\")\n",
    "pickle.dump(allTweetNoDict , outfile)\n",
    "outfile.close()"
   ]
  },
  {
   "cell_type": "markdown",
   "metadata": {},
   "source": [
    "Prediction for test data BoW :"
   ]
  },
  {
   "cell_type": "code",
   "execution_count": null,
   "metadata": {},
   "outputs": [],
   "source": [
    "infile = open(\"testbow.pkl\" , \"rb\")\n",
    "bow_xtest = pickle.load(infile)\n",
    "infile.close()"
   ]
  },
  {
   "cell_type": "code",
   "execution_count": null,
   "metadata": {},
   "outputs": [],
   "source": [
    "# probPrediction = svcBow.predict_proba(bow_xtrain) #predict on the validation set\n",
    "prediction_int = svcBow.predict(bow_xtest)\n",
    "prediction_int = prediction_int.tolist()\n",
    "svm_bow_score = f1_score(testEmotions, prediction_int , average=\"micro\") #evaluate on the validation set"
   ]
  },
  {
   "cell_type": "code",
   "execution_count": null,
   "metadata": {},
   "outputs": [],
   "source": [
    "outfile = open(\"predtestbow.pkl\" , \"wb\")\n",
    "pickle.dump(svm_bow_score , outfile)\n",
    "outfile.close()"
   ]
  },
  {
   "cell_type": "markdown",
   "metadata": {},
   "source": [
    "Prediction for test data TFIDF :"
   ]
  },
  {
   "cell_type": "code",
   "execution_count": null,
   "metadata": {},
   "outputs": [],
   "source": [
    "infile = open(\"testtfidf.pkl\" , \"rb\")\n",
    "tfidf = pickle.load(infile)\n",
    "infile.close()"
   ]
  },
  {
   "cell_type": "code",
   "execution_count": null,
   "metadata": {},
   "outputs": [],
   "source": [
    "# probPrediction = svcIdf.predict_proba(tfidf) #predict on the validation set\n",
    "prediction_int = svcIdf.predict(tfidf)\n",
    "prediction_int = prediction_int.tolist()\n",
    "\n",
    "svm_tdidf_score = f1_score(testEmotions, prediction_int , average=\"micro\") #evaluate on the validation set"
   ]
  },
  {
   "cell_type": "code",
   "execution_count": null,
   "metadata": {},
   "outputs": [],
   "source": [
    "outfile = open(\"predtesttfidf.pkl\" , \"wb\")\n",
    "pickle.dump(svm_tdidf_score , outfile)\n",
    "outfile.close()"
   ]
  },
  {
   "cell_type": "markdown",
   "metadata": {},
   "source": [
    "Prediction for test data W2V :"
   ]
  },
  {
   "cell_type": "code",
   "execution_count": null,
   "metadata": {},
   "outputs": [],
   "source": [
    "infile = open(\"testwordEmbs.pkl\" , \"rb\")\n",
    "allTweetFeatsList = pickle.load(infile)\n",
    "infile.close()"
   ]
  },
  {
   "cell_type": "code",
   "execution_count": null,
   "metadata": {},
   "outputs": [],
   "source": [
    "# probPrediction = svcW2V.predict_proba(allTweetFeatsList) #predict on the validation set\n",
    "prediction_int = svcW2V.predict(allTweetFeatsList)\n",
    "prediction_int = prediction_int.tolist()\n",
    "\n",
    "svm_w2v_score = f1_score(testEmotions, prediction_int , average=\"micro\") #evaluate on the validation set"
   ]
  },
  {
   "cell_type": "code",
   "execution_count": null,
   "metadata": {},
   "outputs": [],
   "source": [
    "outfile = open(\"predtestwordEmbs.pkl\" , \"wb\")\n",
    "pickle.dump(svm_w2v_score , outfile)\n",
    "outfile.close()"
   ]
  },
  {
   "cell_type": "markdown",
   "metadata": {},
   "source": [
    "Prediction for test data W2V without the use of dictionaries :"
   ]
  },
  {
   "cell_type": "code",
   "execution_count": null,
   "metadata": {},
   "outputs": [],
   "source": [
    "infile = open(\"testwordEmbsNoDict.pkl\" , \"rb\")\n",
    "allTweetNoDict = pickle.load(infile)\n",
    "infile.close()"
   ]
  },
  {
   "cell_type": "code",
   "execution_count": null,
   "metadata": {},
   "outputs": [],
   "source": [
    "# probPrediction = svcW2V.predict_proba(allTweetFeatsList) #predict on the validation set\n",
    "prediction_int = svcW2V_Nod.predict(allTweetNoDict)\n",
    "prediction_int = prediction_int.tolist()\n",
    "\n",
    "svm_w2v_score_nod = f1_score(testEmotions, prediction_int , average=\"micro\") #evaluate on the validation set"
   ]
  },
  {
   "cell_type": "code",
   "execution_count": null,
   "metadata": {},
   "outputs": [],
   "source": [
    "outfile = open(\"predtestwordEmbsNoDict.pkl\" , \"wb\")\n",
    "pickle.dump(svm_w2v_score_nod , outfile)\n",
    "outfile.close()"
   ]
  },
  {
   "cell_type": "markdown",
   "metadata": {},
   "source": [
    "Setting up KNN and predicting by using the Bow data :"
   ]
  },
  {
   "cell_type": "code",
   "execution_count": null,
   "metadata": {},
   "outputs": [],
   "source": [
    "infile = open(\"bigbow.pkl\" , \"rb\")\n",
    "bow_xtrain = pickle.load(infile)\n",
    "infile.close()"
   ]
  },
  {
   "cell_type": "code",
   "execution_count": null,
   "metadata": {},
   "outputs": [],
   "source": [
    "k = 10\n",
    "knn = KNeighborsClassifier(n_neighbors=k)\n",
    "knn.fit(bow_xtrain , emotions)"
   ]
  },
  {
   "cell_type": "code",
   "execution_count": null,
   "metadata": {},
   "outputs": [],
   "source": [
    "infile = open(\"testbow.pkl\" , \"rb\")\n",
    "bow_xtest = pickle.load(infile)\n",
    "infile.close()"
   ]
  },
  {
   "cell_type": "code",
   "execution_count": null,
   "metadata": {},
   "outputs": [],
   "source": [
    "prediction_knn = knn.predict(bow_xtest)\n",
    "knn_bow_score = f1_score(testEmotions, prediction_knn , average=\"micro\") #evaluate on the validation set"
   ]
  },
  {
   "cell_type": "code",
   "execution_count": null,
   "metadata": {},
   "outputs": [],
   "source": [
    "outfile = open(\"knn_predtestbow.pkl\" , \"wb\")\n",
    "pickle.dump(knn_bow_score , outfile)\n",
    "outfile.close()"
   ]
  },
  {
   "cell_type": "markdown",
   "metadata": {},
   "source": [
    "Setting up KNN and predicting by using the TFIDF data :"
   ]
  },
  {
   "cell_type": "code",
   "execution_count": null,
   "metadata": {},
   "outputs": [],
   "source": [
    "infile = open(\"bigtfidf.pkl\" , \"rb\")\n",
    "tfidf = pickle.load(infile)\n",
    "infile.close()"
   ]
  },
  {
   "cell_type": "code",
   "execution_count": null,
   "metadata": {},
   "outputs": [],
   "source": [
    "k = 10\n",
    "knn = KNeighborsClassifier(n_neighbors=k)\n",
    "knn.fit(tfidf , emotions)"
   ]
  },
  {
   "cell_type": "code",
   "execution_count": null,
   "metadata": {},
   "outputs": [],
   "source": [
    "infile = open(\"testtfidf.pkl\" , \"rb\")\n",
    "tfidf_new = pickle.load(infile)\n",
    "infile.close()"
   ]
  },
  {
   "cell_type": "code",
   "execution_count": null,
   "metadata": {},
   "outputs": [],
   "source": [
    "prediction_knn = knn.predict(tfidf_new)\n",
    "knn_tdidf_score = f1_score(testEmotions, prediction_knn , average=\"micro\") #evaluate on the validation set"
   ]
  },
  {
   "cell_type": "code",
   "execution_count": null,
   "metadata": {},
   "outputs": [],
   "source": [
    "outfile = open(\"knn_predtesttfidf.pkl\" , \"wb\")\n",
    "pickle.dump(knn_tdidf_score , outfile)\n",
    "outfile.close()"
   ]
  },
  {
   "cell_type": "markdown",
   "metadata": {},
   "source": [
    "Setting up KNN and predicting by using the W2V data :"
   ]
  },
  {
   "cell_type": "code",
   "execution_count": null,
   "metadata": {},
   "outputs": [],
   "source": [
    "infile = open(\"bigwordEmbs.pkl\" , \"rb\")\n",
    "w2v = pickle.load(infile)\n",
    "infile.close()"
   ]
  },
  {
   "cell_type": "code",
   "execution_count": null,
   "metadata": {},
   "outputs": [],
   "source": [
    "k = 10\n",
    "knn = KNeighborsClassifier(n_neighbors=k)\n",
    "knn.fit(w2v , emotions)"
   ]
  },
  {
   "cell_type": "code",
   "execution_count": null,
   "metadata": {},
   "outputs": [],
   "source": [
    "infile = open(\"testwordEmbs.pkl\" , \"rb\")\n",
    "w2v_new = pickle.load(infile)\n",
    "infile.close()"
   ]
  },
  {
   "cell_type": "code",
   "execution_count": null,
   "metadata": {},
   "outputs": [],
   "source": [
    "prediction_knn = knn.predict(w2v_new)\n",
    "knn_w2v_score = f1_score(testEmotions, prediction_knn , average=\"micro\") #evaluate on the validation set"
   ]
  },
  {
   "cell_type": "code",
   "execution_count": null,
   "metadata": {},
   "outputs": [],
   "source": [
    "outfile = open(\"knn_predtestwordEmbs.pkl\" , \"wb\")\n",
    "pickle.dump(knn_w2v_score , outfile)\n",
    "outfile.close()"
   ]
  },
  {
   "cell_type": "markdown",
   "metadata": {},
   "source": [
    "Prediction by using W2V data without the use of dictionaries :"
   ]
  },
  {
   "cell_type": "code",
   "execution_count": null,
   "metadata": {},
   "outputs": [],
   "source": [
    "infile = open(\"bigwordEmbsNoDict.pkl\" , \"rb\")\n",
    "w2v_NoDict = pickle.load(infile)\n",
    "infile.close()"
   ]
  },
  {
   "cell_type": "code",
   "execution_count": null,
   "metadata": {},
   "outputs": [],
   "source": [
    "k = 10\n",
    "knn = KNeighborsClassifier(n_neighbors=k)\n",
    "knn.fit(w2v_NoDict , emotions)"
   ]
  },
  {
   "cell_type": "code",
   "execution_count": null,
   "metadata": {},
   "outputs": [],
   "source": [
    "infile = open(\"testwordEmbsNoDict.pkl\" , \"rb\")\n",
    "w2v_new_nod = pickle.load(infile)\n",
    "infile.close()"
   ]
  },
  {
   "cell_type": "code",
   "execution_count": null,
   "metadata": {},
   "outputs": [],
   "source": [
    "prediction_knn = knn.predict(w2v_new_nod)\n",
    "knn_w2v_score_nod = f1_score(testEmotions, prediction_knn , average=\"micro\") #evaluate on the validation set"
   ]
  },
  {
   "cell_type": "code",
   "execution_count": null,
   "metadata": {},
   "outputs": [],
   "source": [
    "outfile = open(\"knn_predtestwordEmbsNoDict.pkl\" , \"wb\")\n",
    "pickle.dump(knn_w2v_score_nod , outfile)\n",
    "outfile.close()"
   ]
  },
  {
   "cell_type": "markdown",
   "metadata": {},
   "source": [
    "The arrays with the success percentages of the algorithms used :"
   ]
  },
  {
   "cell_type": "code",
   "execution_count": null,
   "metadata": {},
   "outputs": [],
   "source": [
    "infile = open(\"predtestbow.pkl\" , \"rb\")\n",
    "svm_bow_score = pickle.load(infile)\n",
    "infile.close()\n",
    "infile = open(\"predtesttfidf.pkl\" , \"rb\")\n",
    "svm_tfidf_score = pickle.load(infile)\n",
    "infile.close()\n",
    "infile = open(\"predtestwordEmbs.pkl\" , \"rb\")\n",
    "svm_w2v_score = pickle.load(infile)\n",
    "infile.close()\n",
    "infile = open(\"predtestwordEmbsNoDict.pkl\" , \"rb\")\n",
    "svm_w2v_score_nod = pickle.load(infile)\n",
    "infile.close()\n",
    "\n",
    "infile = open(\"knn_predtestwordEmbsNoDict.pkl\" , \"rb\")\n",
    "knn_bow_score = pickle.load(infile)\n",
    "infile.close()\n",
    "infile = open(\"knn_predtestwordEmbsNoDict.pkl\" , \"rb\")\n",
    "knn_tfidf_score = pickle.load(infile)\n",
    "infile.close()\n",
    "infile = open(\"knn_predtestwordEmbsNoDict.pkl\" , \"rb\")\n",
    "knn_w2v_score = pickle.load(infile)\n",
    "infile.close()\n",
    "infile = open(\"knn_predtestwordEmbsNoDict.pkl\" , \"rb\")\n",
    "knn_w2v_score_nod = pickle.load(infile)\n",
    "infile.close()"
   ]
  },
  {
   "cell_type": "code",
   "execution_count": null,
   "metadata": {},
   "outputs": [],
   "source": [
    "fig = plt.figure()\n",
    "ax  = fig.add_subplot(111)\n",
    "\n",
    "col_labels = ['Bow', 'Tf_idf', 'Word_Emb', 'Word_Emb\\nwith dictionaries']\n",
    "row_labels = ['SVM', 'KNN']\n",
    "table_vals = [[str(float('%.2f'%(svm_bow_score * 100))) + \"%\", str(float('%.2f'%(svm_tfidf_score   * 100))) + \"%\", \n",
    "               str(float('%.2f'%(svm_w2v_score * 100))) + \"%\", str(float('%.2f'%(svm_w2v_score_nod * 100))) + \"%\"], \n",
    "              [str(float('%.2f'%(knn_bow_score * 100))) + \"%\", str(float('%.2f'%(knn_tfidf_score   * 100))) + \"%\", \n",
    "               str(float('%.2f'%(knn_w2v_score * 100))) + \"%\", str(float('%.2f'%(knn_w2v_score_nod * 100))) + \"%\"]]\n",
    "\n",
    "# Draw table\n",
    "the_table = plt.table(cellText  = table_vals,\n",
    "                      colWidths = [0.1, 0.1, 0.12, 0.18],\n",
    "                      rowLabels = row_labels,\n",
    "                      colLabels = col_labels,\n",
    "                      loc       = 'center'  ,\n",
    "                      cellLoc   = 'center',\n",
    "                      rowColours=('#FFFF00','#569857'),\n",
    "                      colColours=(\"#321789\",\"#321789\",\"#321789\",\"#321789\"))\n",
    "\n",
    "the_table.auto_set_font_size(False)\n",
    "the_table.set_fontsize(24)\n",
    "the_table.scale(4, 4)\n",
    "\n",
    "cellDict = the_table.get_celld()\n",
    "for i in range(0,len(col_labels)):\n",
    "    cellDict[(0,i)].set_height(.3)\n",
    "\n",
    "# Removing ticks and spines enables you to get the figure only with table\n",
    "plt.tick_params(axis='x', which='both', bottom=False, top=False, labelbottom=False)\n",
    "plt.tick_params(axis='y', which='both', right=False, left=False, labelleft=False)\n",
    "for pos in ['right','top','bottom','left']:\n",
    "    plt.gca().spines[pos].set_visible(False)"
   ]
  },
  {
   "cell_type": "markdown",
   "metadata": {},
   "source": [
    " BOW   TD_IDF WORD_EMB\n",
    "SVM 51%     55%    42%\n",
    "KNN 48%     48%    48%"
   ]
  },
  {
   "cell_type": "markdown",
   "metadata": {},
   "source": [
    "Δεν πρόλαβε να ολοκληρώσει την εκτέλεση ώστε να φαίνονται όλα τα γραφήματα και τα charts. \n",
    "Ο παραπάνω πίνακας προέκυψε σε μια προηγούμενη εκτέλεση.\n",
    "Έχει υλοποιηθεί και εκδοχή με word embeddings χωρίς dictionaries η οποία δεν πρόλαβε να \n",
    "ολκληρώσει την εκτέλεσή της και γι'αυτό δεν έχουμε ποσοστά έτοιμα.\n",
    "\n",
    "Edit: Σωστή έκδοση του προγράμματος , η οποία τελείωσε την εκτέλεσή της"
   ]
  }
 ],
 "metadata": {
  "kernelspec": {
   "display_name": "Python 3",
   "language": "python",
   "name": "python3"
  },
  "language_info": {
   "codemirror_mode": {
    "name": "ipython",
    "version": 3
   },
   "file_extension": ".py",
   "mimetype": "text/x-python",
   "name": "python",
   "nbconvert_exporter": "python",
   "pygments_lexer": "ipython3",
   "version": "3.7.3"
  }
 },
 "nbformat": 4,
 "nbformat_minor": 2
}
